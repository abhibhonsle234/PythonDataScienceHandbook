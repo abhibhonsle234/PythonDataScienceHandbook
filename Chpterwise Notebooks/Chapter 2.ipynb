{
 "cells": [
  {
   "cell_type": "code",
   "execution_count": 1,
   "metadata": {},
   "outputs": [
    {
     "data": {
      "text/plain": [
       "array('i', [0, 1, 2, 3, 4, 5, 6, 7, 8, 9])"
      ]
     },
     "execution_count": 1,
     "metadata": {},
     "output_type": "execute_result"
    }
   ],
   "source": [
    "import array\n",
    "L = list(range(10))\n",
    "A = array.array('i', L)\n",
    "A"
   ]
  },
  {
   "cell_type": "code",
   "execution_count": 2,
   "metadata": {},
   "outputs": [],
   "source": [
    "import numpy as np"
   ]
  },
  {
   "cell_type": "code",
   "execution_count": 3,
   "metadata": {},
   "outputs": [
    {
     "data": {
      "text/plain": [
       "array(['1', '3.14', '2'], dtype='<U4')"
      ]
     },
     "execution_count": 3,
     "metadata": {},
     "output_type": "execute_result"
    }
   ],
   "source": [
    "#np.array([1, 2, 3, 4 ,5])\n",
    "#np.array([3.14, 2, 3, 45])\n",
    "#np.array([\"1\", 2, 3, 4])\n",
    "np.array([\"1\", 3.14, 2])"
   ]
  },
  {
   "cell_type": "code",
   "execution_count": 4,
   "metadata": {},
   "outputs": [
    {
     "data": {
      "text/plain": [
       "array([[1, 2, 3, 4],\n",
       "       [2, 3, 4, 5],\n",
       "       [3, 4, 5, 6]])"
      ]
     },
     "execution_count": 4,
     "metadata": {},
     "output_type": "execute_result"
    }
   ],
   "source": [
    "#np.array([1, 2, 3 ,4], dtype=\"float16\")\n",
    "np.array([range(i, i+4)for i in [1, 2, 3]])"
   ]
  },
  {
   "cell_type": "code",
   "execution_count": 5,
   "metadata": {},
   "outputs": [
    {
     "data": {
      "text/plain": [
       "array([9.82796328e-312, 0.00000000e+000, 4.94065646e-324])"
      ]
     },
     "execution_count": 5,
     "metadata": {},
     "output_type": "execute_result"
    }
   ],
   "source": [
    "#np.zeros(10, dtype=float)\n",
    "#np.ones((2, 5), dtype=float)\n",
    "#np.full((3, 4), 3.14, dtype=int)\n",
    "#np.arange(0, 20, 3)#like range()\n",
    "#np.linspace(0, 1, 5)\n",
    "#np.random.random((4, 4)) #uniform distribution\n",
    "#np.random.normal(0, 1, (3, 2)) #normal distribution with mean = 0, std=1\n",
    "#np.random.randint(0, 10, (3, 3)) # randomints in [0, 10)\n",
    "#np.eye(3) identity matrix\n",
    "np.empty(3) #Create an uninitialized array of three integers, The values will be whatever happens to already exist at that memory location"
   ]
  },
  {
   "cell_type": "raw",
   "metadata": {},
   "source": [
    "Data type Description\n",
    "bool_ Boolean (True or False) stored as a byte\n",
    "int_ Default integer type (same as C long; normally either int64 or int32)\n",
    "intc Identical to C int (normally int32 or int64)\n",
    "intp Integer used for indexing (same as C ssize_t; normally either int32 or int64)\n",
    "int8 Byte (–128 to 127)\n",
    "int16 Integer (–32768 to 32767)\n",
    "int32 Integer (–2147483648 to 2147483647)\n",
    "int64 Integer (–9223372036854775808 to 9223372036854775807)\n",
    "uint8 Unsigned integer (0 to 255)\n",
    "uint16 Unsigned integer (0 to 65535)\n",
    "uint32 Unsigned integer (0 to 4294967295)\n",
    "uint64 Unsigned integer (0 to 18446744073709551615)\n",
    "float_ Shorthand for float64\n",
    "float16 Half-precision float: sign bit, 5 bits exponent, 10 bits mantissa\n",
    "float32 Single-precision float: sign bit, 8 bits exponent, 23 bits mantissa\n",
    "float64 Double-precision float: sign bit, 11 bits exponent, 52 bits mantissa\n",
    "complex_ Shorthand for complex128\n",
    "complex64 Complex number, represented by two 32-bit floats\n",
    "complex128 Complex number, represented by two 64-bit floats"
   ]
  },
  {
   "cell_type": "code",
   "execution_count": 6,
   "metadata": {},
   "outputs": [],
   "source": [
    "np.random.seed(25)"
   ]
  },
  {
   "cell_type": "code",
   "execution_count": 7,
   "metadata": {},
   "outputs": [
    {
     "name": "stdout",
     "output_type": "stream",
     "text": [
      "1 (6,) 6 int32 4 24\n",
      "2 (3, 4) 12 int32 4 48\n",
      "3 (3, 3, 4) 36 int32 4 144\n",
      "[4 6 7 2 8 4]\n",
      "[[9 4 5 1]\n",
      " [7 3 8 7]\n",
      " [3 4 3 1]]\n",
      "[[[6 0 9 0]\n",
      "  [2 5 4 9]\n",
      "  [0 1 6 1]]\n",
      "\n",
      " [[2 4 2 5]\n",
      "  [8 0 6 4]\n",
      "  [2 5 9 9]]\n",
      "\n",
      " [[6 0 2 4]\n",
      "  [3 1 3 5]\n",
      "  [7 2 3 7]]]\n"
     ]
    }
   ],
   "source": [
    "x1 = np.random.randint(10, size=6)#one dimensional array\n",
    "x2 = np.random.randint(10, size=(3, 4))#two dimensional array\n",
    "x3 = np.random.randint(10, size=(3, 3, 4))#three dimensional array\n",
    "print(x1.ndim, x1.shape, x1.size, x1.dtype, x1.itemsize, x1.nbytes)\n",
    "print(x2.ndim, x2.shape, x2.size, x2.dtype, x2.itemsize, x2.nbytes)\n",
    "print(x3.ndim, x3.shape, x3.size, x3.dtype, x3.itemsize, x3.nbytes)\n",
    "print(x1) \n",
    "print(x2)\n",
    "print(x3)"
   ]
  },
  {
   "cell_type": "code",
   "execution_count": 8,
   "metadata": {},
   "outputs": [
    {
     "data": {
      "text/plain": [
       "array([4, 2, 6])"
      ]
     },
     "execution_count": 8,
     "metadata": {},
     "output_type": "execute_result"
    }
   ],
   "source": [
    "#x[start:stop:step]\n",
    "x1[1::2]\n",
    "x1[::-1]\n",
    "x1[5::-2]# reversed every other from index 5"
   ]
  },
  {
   "cell_type": "code",
   "execution_count": 9,
   "metadata": {},
   "outputs": [
    {
     "data": {
      "text/plain": [
       "array([9, 4, 5, 1])"
      ]
     },
     "execution_count": 9,
     "metadata": {},
     "output_type": "execute_result"
    }
   ],
   "source": [
    "x2\n",
    "x2[:3, :2]\n",
    "x2[::-1, ::-1]\n",
    "x2[:, 0]# or x2[0]\n",
    "x2[0, :]\n",
    "#unlike list slices numpy array slices return views instead of copies therefore dont need to copy while editing large datasets\n",
    "x2[0,:].copy()"
   ]
  },
  {
   "cell_type": "code",
   "execution_count": 10,
   "metadata": {},
   "outputs": [
    {
     "data": {
      "text/plain": [
       "array([[1],\n",
       "       [2],\n",
       "       [3]])"
      ]
     },
     "execution_count": 10,
     "metadata": {},
     "output_type": "execute_result"
    }
   ],
   "source": [
    "np.arange(1, 10).reshape(3, 3)\n",
    "x = np.array([1, 2, 3 ])\n",
    "x.reshape(3, 1)# 2D columnor row matrix\n",
    "x[:, np.newaxis]"
   ]
  },
  {
   "cell_type": "code",
   "execution_count": 11,
   "metadata": {},
   "outputs": [
    {
     "data": {
      "text/plain": [
       "array([[1, 0, 1, 2],\n",
       "       [2, 3, 4, 5],\n",
       "       [3, 6, 7, 8]])"
      ]
     },
     "execution_count": 11,
     "metadata": {},
     "output_type": "execute_result"
    }
   ],
   "source": [
    "#np.concatenate([x, x1, [1, 2 ,3, 4, 6]])\n",
    "#grid = np.arange(0, 6).reshape(3, 2)\n",
    "#np.concatenate([grid, grid])\n",
    "#np.concatenate([grid, grid], axis=1)\n",
    "\n",
    "x = np.array([1, 2, 3])\n",
    "grid = np.arange(0, 9).reshape(3, 3)\n",
    "np.vstack([x, grid])\n",
    "\n",
    "x = np.array([1, 2, 3]).reshape(3, 1)\n",
    "grid = np.arange(0, 9).reshape(3, 3)\n",
    "np.hstack([x, grid])"
   ]
  },
  {
   "cell_type": "code",
   "execution_count": 12,
   "metadata": {},
   "outputs": [
    {
     "name": "stdout",
     "output_type": "stream",
     "text": [
      "[1 2 3] [4 5] [6 7 8 9]\n"
     ]
    },
    {
     "data": {
      "text/plain": [
       "(array([[0, 1, 2],\n",
       "        [3, 4, 5]]), array([[6, 7, 8]]))"
      ]
     },
     "execution_count": 12,
     "metadata": {},
     "output_type": "execute_result"
    }
   ],
   "source": [
    "x = np.arange(1, 10)\n",
    "x1, x2, x3 = np.split(x, [3, 5])#list of indices giving split points\n",
    "print(x1, x2, x3)\n",
    "u, l = np.hsplit(grid, [2])\n",
    "u, l\n",
    "u, l = np.vsplit(grid, [2])\n",
    "u, l\n",
    "#np.dsplit() splits into third axis"
   ]
  },
  {
   "cell_type": "code",
   "execution_count": 13,
   "metadata": {},
   "outputs": [
    {
     "data": {
      "text/plain": [
       "array([ 0, -1, -2, -3, -4, -5, -6, -7, -8], dtype=int32)"
      ]
     },
     "execution_count": 13,
     "metadata": {},
     "output_type": "execute_result"
    }
   ],
   "source": [
    "#vectorized operations ufuncs\n",
    "#%timeit (1.0/np.arange(1, 100))\n",
    "2**x\n",
    "y = -(2*x-2)//2\n",
    "y"
   ]
  },
  {
   "cell_type": "raw",
   "metadata": {},
   "source": [
    "Operator Equivalent ufunc Description\n",
    "+ np.add Addition (e.g., 1 + 1 = 2)\n",
    "- np.subtract Subtraction (e.g., 3 - 2 = 1)\n",
    "- np.negative Unary negation (e.g., -2)\n",
    "* np.multiply Multiplication (e.g., 2 * 3 = 6)\n",
    "/ np.divide Division (e.g., 3 / 2 = 1.5)\n",
    "// np.floor_divide Floor division (e.g., 3 // 2 = 1)\n",
    "** np.power Exponentiation (e.g., 2 ** 3 = 8)\n",
    "% np.mod Modulus/remainder (e.g., 9 % 4 = 1)"
   ]
  },
  {
   "cell_type": "code",
   "execution_count": 14,
   "metadata": {},
   "outputs": [
    {
     "data": {
      "text/plain": [
       "array([5., 5., 2., 1.])"
      ]
     },
     "execution_count": 14,
     "metadata": {},
     "output_type": "execute_result"
    }
   ],
   "source": [
    "abs(y)\n",
    "np.abs(y)\n",
    "np.absolute(y)\n",
    "c = np.array([3 - 4j, 4 - 3j, 2 + 0j, 0 + 1j])\n",
    "np.abs(c)"
   ]
  },
  {
   "cell_type": "code",
   "execution_count": 15,
   "metadata": {},
   "outputs": [
    {
     "name": "stdout",
     "output_type": "stream",
     "text": [
      "e^x = [2.71828183 1.         7.3890561 ]\n",
      "2^x = [2. 1. 4.]\n",
      "3^x = [3 1 9]\n"
     ]
    }
   ],
   "source": [
    "#theta = np.linspace(0, np.pi, 3)\n",
    "#np.sin(theta), np.cos(theta), np.tan(theta)\n",
    "#arcs = [1, 0, -1]\n",
    "#np.arcsin(arcs), np.arccos(arcs), np.arctan(arcs)\n",
    "arcs = [1, 0, 2]\n",
    "print(\"e^x =\", np.exp(arcs))\n",
    "print(\"2^x =\", np.exp2(arcs))\n",
    "print(\"3^x =\", np.power(3, arcs)) #logs, expm1, log2, log10, log1p "
   ]
  },
  {
   "cell_type": "code",
   "execution_count": 16,
   "metadata": {},
   "outputs": [
    {
     "name": "stdout",
     "output_type": "stream",
     "text": [
      "gamma(x) = [1.0000e+00 2.4000e+01 3.6288e+05]\n",
      "ln|gamma(x)| = [ 0.          3.17805383 12.80182748]\n",
      "beta(x, 2) = [0.5        0.03333333 0.00909091]\n"
     ]
    }
   ],
   "source": [
    "from scipy import special\n",
    "z = [1, 5, 10]\n",
    "print(\"gamma(x) =\", special.gamma(z))\n",
    "print(\"ln|gamma(x)| =\", special.gammaln(z))\n",
    "print(\"beta(x, 2) =\", special.beta(z, 2))"
   ]
  },
  {
   "cell_type": "code",
   "execution_count": 17,
   "metadata": {},
   "outputs": [
    {
     "name": "stdout",
     "output_type": "stream",
     "text": [
      "[ 0. 12. 24. 36. 48.]\n",
      "10\n"
     ]
    },
    {
     "data": {
      "text/plain": [
       "array([  0,  -1,  -3,  -6, -10], dtype=int32)"
      ]
     },
     "execution_count": 17,
     "metadata": {},
     "output_type": "execute_result"
    }
   ],
   "source": [
    "a = np.arange(5)\n",
    "b=  np.empty(5)\n",
    "np.multiply(a, 12, out=b)\n",
    "print(b)\n",
    "print(np.add.reduce(a))\n",
    "np.subtract.accumulate(a)"
   ]
  },
  {
   "cell_type": "code",
   "execution_count": 18,
   "metadata": {},
   "outputs": [
    {
     "data": {
      "text/plain": [
       "array([[ 1,  2,  3,  4,  5],\n",
       "       [ 2,  4,  6,  8, 10],\n",
       "       [ 3,  6,  9, 12, 15],\n",
       "       [ 4,  8, 12, 16, 20],\n",
       "       [ 5, 10, 15, 20, 25]])"
      ]
     },
     "execution_count": 18,
     "metadata": {},
     "output_type": "execute_result"
    }
   ],
   "source": [
    "#any ufunc can compute the output of all pairs of two different inputs using the outer method\n",
    "tab = np.arange(1, 6)\n",
    "np.multiply.outer(tab, tab)"
   ]
  },
  {
   "cell_type": "code",
   "execution_count": 19,
   "metadata": {},
   "outputs": [
    {
     "data": {
      "text/plain": [
       "array([0.81649658, 0.81649658, 0.81649658])"
      ]
     },
     "execution_count": 19,
     "metadata": {},
     "output_type": "execute_result"
    }
   ],
   "source": [
    "#np.min,max,mean,std\n",
    "np.std(grid, axis=1)"
   ]
  },
  {
   "cell_type": "raw",
   "metadata": {},
   "source": [
    "Function Name NaN-safe Version Description\n",
    "np.sum np.nansum Compute sum of elements\n",
    "np.prod np.nanprod Compute product of elements\n",
    "np.mean np.nanmean Compute median of elements\n",
    "np.std np.nanstd Compute standard deviation\n",
    "np.var np.nanvar Compute variance\n",
    "np.min np.nanmin Find minimum value\n",
    "np.max np.nanmax Find maximum value\n",
    "np.argmin np.nanargmin Find index of minimum value\n",
    "np.argmax np.nanargmax Find index of maximum value\n",
    "np.median np.nanmedian Compute median of elements\n",
    "np.percentile np.nanpercentile Compute rank-based statistics of elements\n",
    "np.any N/A Evaluate whether any elements are true\n",
    "np.all N/A Evaluate whether all elements are true\n",
    "We will see these aggregates often throughout the"
   ]
  },
  {
   "cell_type": "code",
   "execution_count": 20,
   "metadata": {},
   "outputs": [
    {
     "name": "stdout",
     "output_type": "stream",
     "text": [
      "[189 170 189 163 183 171 185 168 173 183 173 173 175 178 183 193 178 173\n",
      " 174 183 183 168 170 178 182 180 183 178 182 188 175 179 183 193 182 183\n",
      " 177 185 188 188 182 185]\n"
     ]
    },
    {
     "data": {
      "text/plain": [
       "174.25"
      ]
     },
     "execution_count": 20,
     "metadata": {},
     "output_type": "execute_result"
    }
   ],
   "source": [
    "import pandas as pd\n",
    "data = pd.read_csv('data/president_heights.csv')\n",
    "heights = np.array(data['height(cm)'])\n",
    "print(heights)\n",
    "np.percentile(heights, 25)"
   ]
  },
  {
   "cell_type": "code",
   "execution_count": 21,
   "metadata": {},
   "outputs": [
    {
     "data": {
      "text/plain": [
       "array([[ 0,  2,  4],\n",
       "       [ 3,  5,  7],\n",
       "       [ 6,  8, 10]])"
      ]
     },
     "execution_count": 21,
     "metadata": {},
     "output_type": "execute_result"
    }
   ],
   "source": [
    "#broadcasting -> broadcasted to all dimensions\n",
    "a+b\n",
    "grid+a[:3]"
   ]
  },
  {
   "cell_type": "code",
   "execution_count": 22,
   "metadata": {},
   "outputs": [
    {
     "data": {
      "text/plain": [
       "array([ 4.99600361e-17,  1.11022302e-17, -6.66133815e-17])"
      ]
     },
     "execution_count": 22,
     "metadata": {},
     "output_type": "execute_result"
    }
   ],
   "source": [
    "d = np.random.random((10, 3))\n",
    "dMean = d.mean(0)\n",
    "dMean\n",
    "d_centered = d - dMean\n",
    "d_centered.mean(0)"
   ]
  },
  {
   "cell_type": "raw",
   "metadata": {},
   "source": [
    "Plotting a two-dimensional function\n",
    "One place that broadcasting is very useful is in displaying images based on twodimensional\n",
    "functions. If we want to define a function z = f(x, y), broadcasting can be\n",
    "used to compute the function across the grid"
   ]
  },
  {
   "cell_type": "code",
   "execution_count": 23,
   "metadata": {},
   "outputs": [
    {
     "data": {
      "image/png": "[encoded data removed]",
      "text/plain": [
       "<Figure size 432x288 with 2 Axes>"
      ]
     },
     "metadata": {
      "needs_background": "light"
     },
     "output_type": "display_data"
    }
   ],
   "source": [
    "a = np.linspace(0, 5, 50)\n",
    "b = np.linspace(0, 5, 50)[:, np.newaxis]\n",
    "z = np.sin(a)*10 + np.cos(10+a*b)*np.cos(a)\n",
    "%matplotlib inline\n",
    "import matplotlib.pyplot as plt\n",
    "plt.imshow(z, origin='lower', extent=[0, 5, 0, 5], cmap='viridis')\n",
    "plt.colorbar();"
   ]
  },
  {
   "cell_type": "code",
   "execution_count": 24,
   "metadata": {},
   "outputs": [
    {
     "data": {
      "text/plain": [
       "array([False,  True, False, False, False])"
      ]
     },
     "execution_count": 24,
     "metadata": {},
     "output_type": "execute_result"
    }
   ],
   "source": [
    "w = np.array([1, 2, 3, 4, 5])\n",
    "w<3\n",
    "w>3\n",
    "w<=3\n",
    "w*2 == w**2"
   ]
  },
  {
   "cell_type": "code",
   "execution_count": 25,
   "metadata": {},
   "outputs": [
    {
     "data": {
      "text/plain": [
       "(365,)"
      ]
     },
     "execution_count": 25,
     "metadata": {},
     "output_type": "execute_result"
    }
   ],
   "source": [
    "rainfall = pd.read_csv('data/Seattle2014.csv')['PRCP'].values\n",
    "inches = rainfall / 254 # 1/10mm -> inches\n",
    "inches.shape"
   ]
  },
  {
   "cell_type": "code",
   "execution_count": 28,
   "metadata": {},
   "outputs": [
    {
     "data": {
      "text/plain": [
       "29"
      ]
     },
     "execution_count": 28,
     "metadata": {},
     "output_type": "execute_result"
    }
   ],
   "source": [
    "np.sum(inches>0.5)\n",
    "np.sum((inches>0.5) & (inches<1))"
   ]
  },
  {
   "cell_type": "code",
   "execution_count": 30,
   "metadata": {},
   "outputs": [
    {
     "data": {
      "text/plain": [
       "0.8052777186635455"
      ]
     },
     "execution_count": 30,
     "metadata": {},
     "output_type": "execute_result"
    }
   ],
   "source": [
    "#masking\n",
    "inches[inches>0.5]\n",
    "rainy = inches>0.5\n",
    "np.mean(inches[rainy])"
   ]
  },
  {
   "cell_type": "code",
   "execution_count": 32,
   "metadata": {},
   "outputs": [
    {
     "ename": "ValueError",
     "evalue": "The truth value of an array with more than one element is ambiguous. Use a.any() or a.all()",
     "output_type": "error",
     "traceback": [
      "\u001b[1;31m---------------------------------------------------------------------------\u001b[0m",
      "\u001b[1;31mValueError\u001b[0m                                Traceback (most recent call last)",
      "\u001b[1;32m<ipython-input-32-0ff249d126ee>\u001b[0m in \u001b[0;36m<module>\u001b[1;34m\u001b[0m\n\u001b[0;32m      2\u001b[0m \u001b[0mB\u001b[0m \u001b[1;33m=\u001b[0m \u001b[0mnp\u001b[0m\u001b[1;33m.\u001b[0m\u001b[0marray\u001b[0m\u001b[1;33m(\u001b[0m\u001b[1;33m[\u001b[0m\u001b[1;36m0\u001b[0m\u001b[1;33m,\u001b[0m \u001b[1;36m0\u001b[0m\u001b[1;33m,\u001b[0m \u001b[1;36m1\u001b[0m\u001b[1;33m,\u001b[0m \u001b[1;36m1\u001b[0m\u001b[1;33m,\u001b[0m \u001b[1;36m0\u001b[0m\u001b[1;33m]\u001b[0m\u001b[1;33m,\u001b[0m \u001b[0mdtype\u001b[0m \u001b[1;33m=\u001b[0m \u001b[0mbool\u001b[0m\u001b[1;33m)\u001b[0m\u001b[1;33m\u001b[0m\u001b[0m\n\u001b[0;32m      3\u001b[0m \u001b[0mA\u001b[0m \u001b[1;33m|\u001b[0m \u001b[0mB\u001b[0m\u001b[1;33m\u001b[0m\u001b[0m\n\u001b[1;32m----> 4\u001b[1;33m \u001b[0mA\u001b[0m \u001b[1;32mor\u001b[0m \u001b[0mB\u001b[0m\u001b[1;33m\u001b[0m\u001b[0m\n\u001b[0m",
      "\u001b[1;31mValueError\u001b[0m: The truth value of an array with more than one element is ambiguous. Use a.any() or a.all()"
     ]
    }
   ],
   "source": [
    "A = np.array([1, 0, 0, 1, 1], dtype = bool)\n",
    "B = np.array([0, 0, 1, 1, 0], dtype = bool)\n",
    "A | B\n",
    "#A or B truth value of an array with more than one element is ambigous"
   ]
  },
  {
   "cell_type": "code",
   "execution_count": 41,
   "metadata": {},
   "outputs": [
    {
     "data": {
      "text/plain": [
       "array([ 4, 14, 12])"
      ]
     },
     "execution_count": 41,
     "metadata": {},
     "output_type": "execute_result"
    }
   ],
   "source": [
    "#fancy indexing\n",
    "x  = np.random.randint(100, size=20)\n",
    "ind = [3, 7, 4]\n",
    "x[ind]\n",
    "ind = np.array([[3, 7], [1, 2]])# normal 2d list would have thrown too many indices error\n",
    "x[ind]\n",
    "\n",
    "_2dX = np.random.randint(20, size=12).reshape((3, 4)) \n",
    "row = np.array([0, 1, 2])\n",
    "col = np.array([2, 1, 3])\n",
    "_2dX[row, col]\n",
    "_2dX[2, [1, 2, 3]]"
   ]
  },
  {
   "cell_type": "code",
   "execution_count": 50,
   "metadata": {},
   "outputs": [
    {
     "data": {
      "image/png": "[encoded data removed]",
      "text/plain": [
       "<Figure size 432x288 with 1 Axes>"
      ]
     },
     "metadata": {},
     "output_type": "display_data"
    }
   ],
   "source": [
    "mean = [0, 0]\n",
    "cov = [[1, 2], [2, 5]]\n",
    "meanX = np.random.multivariate_normal(mean, cov, 100)\n",
    "meanX.shape\n",
    "import seaborn\n",
    "seaborn.set()\n",
    "plt.scatter(meanX[:, 0], meanX[:, 1]);"
   ]
  },
  {
   "cell_type": "code",
   "execution_count": 55,
   "metadata": {},
   "outputs": [
    {
     "data": {
      "text/plain": [
       "<matplotlib.collections.PathCollection at 0x1cf33e2a048>"
      ]
     },
     "execution_count": 55,
     "metadata": {},
     "output_type": "execute_result"
    },
    {
     "data": {
      "image/png": "[encoded data removed]",
      "text/plain": [
       "<Figure size 432x288 with 1 Axes>"
      ]
     },
     "metadata": {},
     "output_type": "display_data"
    }
   ],
   "source": [
    "indices = np.random.choice(meanX.shape[0], 20, replace=False)\n",
    "selection = meanX[indices]\n",
    "selection.shape\n",
    "plt.scatter(meanX[:, 0], meanX[:, 1], alpha=0.3)\n",
    "plt.scatter(selection[:, 0], selection[:, 1], facecolor='none', s=200)"
   ]
  },
  {
   "cell_type": "code",
   "execution_count": 59,
   "metadata": {},
   "outputs": [
    {
     "data": {
      "text/plain": [
       "array([  0.,   0.,   0.,   0.,   0.,   0.,   0.,   0.,   0., 100.])"
      ]
     },
     "execution_count": 59,
     "metadata": {},
     "output_type": "execute_result"
    }
   ],
   "source": [
    "z = np.zeros(10)\n",
    "np.add.at(z, 9, 100)\n",
    "z"
   ]
  },
  {
   "cell_type": "code",
   "execution_count": 62,
   "metadata": {},
   "outputs": [
    {
     "name": "stderr",
     "output_type": "stream",
     "text": [
      "c:\\users\\abhishek\\appdata\\local\\programs\\python\\python36\\lib\\site-packages\\ipykernel_launcher.py:14: MatplotlibDeprecationWarning: Passing the drawstyle with the linestyle as a single string is deprecated since Matplotlib 3.1 and support will be removed in 3.3; please pass the drawstyle separately using the drawstyle keyword argument to Line2D or set_drawstyle() method (or ds/set_ds()).\n",
      "  \n"
     ]
    },
    {
     "data": {
      "text/plain": [
       "[<matplotlib.lines.Line2D at 0x1cf3418e668>]"
      ]
     },
     "execution_count": 62,
     "metadata": {},
     "output_type": "execute_result"
    },
    {
     "data": {
      "image/png": "[encoded data removed]",
      "text/plain": [
       "<Figure size 432x288 with 1 Axes>"
      ]
     },
     "metadata": {},
     "output_type": "display_data"
    }
   ],
   "source": [
    "#binning\n",
    "k = np.random.randn(100)\n",
    "\n",
    "#compute histogram by hand\n",
    "bins = np.linspace(-5, 5, 20)\n",
    "counts = np.zeros_like(bins)\n",
    "\n",
    "#find the appropiate bin for each x\n",
    "i = np.searchsorted(bins, k)\n",
    "\n",
    "#add 1to each of these bins\n",
    "np.add.at(counts, i, 1)\n",
    "\n",
    "plt.plot(bins, counts, linestyle='steps')"
   ]
  },
  {
   "cell_type": "code",
   "execution_count": 63,
   "metadata": {},
   "outputs": [],
   "source": [
    "np.histogram??"
   ]
  },
  {
   "cell_type": "code",
   "execution_count": 66,
   "metadata": {},
   "outputs": [
    {
     "data": {
      "text/plain": [
       "array([ 2,  2,  3,  5, 13, 21, 40, 97, 23, 70, 83, 91, 44, 69, 83, 59, 28,\n",
       "       69, 57, 57])"
      ]
     },
     "execution_count": 66,
     "metadata": {},
     "output_type": "execute_result"
    }
   ],
   "source": [
    "np.sort(grid, axis=1)\n",
    "np.partition(x, 3)#smallest 3 on first 3\n"
   ]
  },
  {
   "cell_type": "code",
   "execution_count": 67,
   "metadata": {},
   "outputs": [],
   "source": [
    "#structured arrays\n",
    "#np.recarrays\n",
    "#implement KNN"
   ]
  },
  {
   "cell_type": "code",
   "execution_count": null,
   "metadata": {},
   "outputs": [],
   "source": []
  }
 ],
 "metadata": {
  "kernelspec": {
   "display_name": "Python 3",
   "language": "python",
   "name": "python3"
  },
  "language_info": {
   "codemirror_mode": {
    "name": "ipython",
    "version": 3
   },
   "file_extension": ".py",
   "mimetype": "text/x-python",
   "name": "python",
   "nbconvert_exporter": "python",
   "pygments_lexer": "ipython3",
   "version": "3.6.0"
  }
 },
 "nbformat": 4,
 "nbformat_minor": 2
}
